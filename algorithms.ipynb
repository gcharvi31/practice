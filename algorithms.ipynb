{
 "cells": [
  {
   "cell_type": "markdown",
   "id": "31f10437-5df0-4158-b204-bee85fb23203",
   "metadata": {},
   "source": [
    "## Tree"
   ]
  },
  {
   "cell_type": "code",
   "execution_count": 1,
   "id": "e9d20552-97b7-4631-a181-dbf99635f5ca",
   "metadata": {
    "tags": []
   },
   "outputs": [],
   "source": [
    "class TreeNode:\n",
    "    def __init__(self, value):\n",
    "        self.value = value\n",
    "        self.left = None\n",
    "        self.right = None"
   ]
  },
  {
   "cell_type": "code",
   "execution_count": 5,
   "id": "56ecf2bf-b635-400e-9bc7-57b9a9ccde9f",
   "metadata": {
    "tags": []
   },
   "outputs": [],
   "source": [
    "root = TreeNode(1)\n",
    "root.left = TreeNode(2)\n",
    "root.right = TreeNode(3)\n",
    "root.left.left = TreeNode(4)\n",
    "root.left.right = TreeNode(5)"
   ]
  },
  {
   "cell_type": "code",
   "execution_count": 6,
   "id": "0ab3c121-3d3c-4e53-8302-6b132178d63d",
   "metadata": {
    "tags": []
   },
   "outputs": [
    {
     "name": "stdout",
     "output_type": "stream",
     "text": [
      "Root-to-leaf paths:\n",
      "1 -> 2 -> 4\n",
      "1 -> 2 -> 5\n",
      "1 -> 3\n"
     ]
    }
   ],
   "source": [
    "def print_root2leaf_paths(root, path=[]):\n",
    "    if root is None:\n",
    "        return\n",
    "    # add current node's value to the path\n",
    "    path.append(root.value)\n",
    "    \n",
    "    # if its a leaf node, print path\n",
    "    # else recursively traverse left and right subtree\n",
    "    if root.left is None and root.right is None:\n",
    "        print(\" -> \".join(map(str, path)))\n",
    "    else:\n",
    "        print_root2leaf_paths(root.left, path.copy())\n",
    "        print_root2leaf_paths(root.right, path.copy())   \n",
    "\n",
    "print(\"Root-to-leaf paths:\")\n",
    "print_root2leaf_paths(root)"
   ]
  },
  {
   "cell_type": "code",
   "execution_count": null,
   "id": "b542a34f-7987-4658-bd0b-d8dc2a3e1e26",
   "metadata": {},
   "outputs": [],
   "source": []
  }
 ],
 "metadata": {
  "kernelspec": {
   "display_name": "Python 3 (ipykernel)",
   "language": "python",
   "name": "python3"
  },
  "language_info": {
   "codemirror_mode": {
    "name": "ipython",
    "version": 3
   },
   "file_extension": ".py",
   "mimetype": "text/x-python",
   "name": "python",
   "nbconvert_exporter": "python",
   "pygments_lexer": "ipython3",
   "version": "3.10.6"
  }
 },
 "nbformat": 4,
 "nbformat_minor": 5
}
